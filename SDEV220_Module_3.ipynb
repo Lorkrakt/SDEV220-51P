{
 "cells": [
  {
   "cell_type": "code",
   "execution_count": 1,
   "id": "7c53cec8",
   "metadata": {},
   "outputs": [
    {
     "name": "stdout",
     "output_type": "stream",
     "text": [
      "['mozzarella', 'cinderella', 'salmonella']\n"
     ]
    }
   ],
   "source": [
    "#7.4\n",
    "things =[\"mozzarella\", \"cinderella\",\"salmonella\"]\n",
    "print(things)"
   ]
  },
  {
   "cell_type": "code",
   "execution_count": 7,
   "id": "6ee34efa",
   "metadata": {},
   "outputs": [
    {
     "name": "stdout",
     "output_type": "stream",
     "text": [
      "Cinderella\n",
      "['mozzarella', 'cinderella', 'salmonella']\n",
      "The element within the list itself was not changed.\n"
     ]
    }
   ],
   "source": [
    "#7.5\n",
    "print(things[1].capitalize())\n",
    "print(things)\n",
    "\n",
    "print(\"The element within the list itself was not changed.\")"
   ]
  },
  {
   "cell_type": "code",
   "execution_count": 8,
   "id": "5c77d7dd",
   "metadata": {},
   "outputs": [
    {
     "name": "stdout",
     "output_type": "stream",
     "text": [
      "['MOZZARELLA', 'cinderella', 'salmonella']\n"
     ]
    }
   ],
   "source": [
    "#7.6\n",
    "#make it upper\n",
    "things[0] = things[0].upper()\n",
    "\n",
    "#print the things\n",
    "print(things)"
   ]
  },
  {
   "cell_type": "code",
   "execution_count": 12,
   "id": "14b54528",
   "metadata": {},
   "outputs": [
    {
     "name": "stdout",
     "output_type": "stream",
     "text": [
      "['MOZZARELLA', 'cinderella']\n"
     ]
    }
   ],
   "source": [
    "#7.7\n",
    "\n",
    "#cure salmonella\n",
    "things.remove(\"salmonella\")\n",
    "\n",
    "#print\n",
    "print(things)"
   ]
  },
  {
   "cell_type": "code",
   "execution_count": 13,
   "id": "26c47beb",
   "metadata": {},
   "outputs": [
    {
     "data": {
      "text/plain": [
       "['Harry', 'Ron', 'Hermione']"
      ]
     },
     "execution_count": 13,
     "metadata": {},
     "output_type": "execute_result"
    }
   ],
   "source": [
    "#9.1\n",
    "\n",
    "def good():\n",
    "    return ['Harry', 'Ron', 'Hermione']\n",
    "\n",
    "good()"
   ]
  },
  {
   "cell_type": "code",
   "execution_count": 15,
   "id": "534ec7c1",
   "metadata": {},
   "outputs": [
    {
     "name": "stdout",
     "output_type": "stream",
     "text": [
      "The third odd number is: 5\n"
     ]
    }
   ],
   "source": [
    "#9.2\n",
    "\n",
    "def get_odds():\n",
    "    odds = []\n",
    "    for number in range(10):\n",
    "        if number % 2 != 0:\n",
    "            odds.append(number)\n",
    "    return odds\n",
    "\n",
    "# Use a for loop to find and print the third value returned\n",
    "odds_list = get_odds()\n",
    "if len(odds_list) >= 3:\n",
    "    print(\"The third odd number is:\", odds_list[2])\n",
    "else:\n",
    "    print(\"There are not enough odd numbers.\")"
   ]
  },
  {
   "cell_type": "code",
   "execution_count": null,
   "id": "99dd5377",
   "metadata": {},
   "outputs": [],
   "source": []
  }
 ],
 "metadata": {
  "kernelspec": {
   "display_name": "Python 3 (ipykernel)",
   "language": "python",
   "name": "python3"
  },
  "language_info": {
   "codemirror_mode": {
    "name": "ipython",
    "version": 3
   },
   "file_extension": ".py",
   "mimetype": "text/x-python",
   "name": "python",
   "nbconvert_exporter": "python",
   "pygments_lexer": "ipython3",
   "version": "3.11.5"
  }
 },
 "nbformat": 4,
 "nbformat_minor": 5
}
