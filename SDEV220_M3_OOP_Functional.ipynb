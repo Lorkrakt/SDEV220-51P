{
 "cells": [
  {
   "cell_type": "code",
   "execution_count": 13,
   "id": "f12956c7",
   "metadata": {},
   "outputs": [
    {
     "name": "stdout",
     "output_type": "stream",
     "text": [
      "[0, 0, 1, 2, 2]\n"
     ]
    }
   ],
   "source": [
    "N = 5\n",
    "arr= [0,2,1,2,0]\n",
    "class Solution:   \n",
    "    def sort012(self,arr,n):\n",
    "        low=0\n",
    "        high=n-1\n",
    "        mid=0\n",
    "        \n",
    "        #check if mid has passed high\n",
    "        while mid<=high:\n",
    "            \n",
    "            #checks if mid is 0 and if so swap with the low point\n",
    "            if arr[mid]==0:\n",
    "                arr[mid] , arr[low] = arr[low] , arr[mid]\n",
    "                mid+=1\n",
    "                low+=1\n",
    "                \n",
    "            #moves where mid is looking if == 1\n",
    "            elif arr[mid]==1:\n",
    "                mid+=1\n",
    "                \n",
    "            #checks high against mid and swaps if necessary\n",
    "            else:\n",
    "                arr[mid] , arr[high] = arr[high] , arr[mid]\n",
    "                high-=1\n",
    "sol = Solution()\n",
    "\n",
    "sol.sort012(arr,N)\n",
    "\n",
    "print(arr)\n",
    "\n"
   ]
  },
  {
   "cell_type": "code",
   "execution_count": 17,
   "id": "1b3e79d6",
   "metadata": {},
   "outputs": [
    {
     "name": "stdout",
     "output_type": "stream",
     "text": [
      "3\n"
     ]
    }
   ],
   "source": [
    "n = 5\n",
    "k = 4\n",
    "arr = [1,2,3,4,5]\n",
    "class Solution:\t\n",
    "    def binarysearch(self, arr, n, k):\n",
    "        # code here\n",
    "        low, high = 0, n - 1\n",
    "\n",
    "        while low <= high:\n",
    "            mid = (low + high) // 2\n",
    "\n",
    "            if arr[mid] == k:\n",
    "                return mid\n",
    "            elif arr[mid] < k:\n",
    "                low = mid + 1\n",
    "            else:\n",
    "                high = mid - 1\n",
    "\n",
    "        # If the loop exits, k is not present in the array\n",
    "        return -1    \n",
    "    \n",
    "#instantiate solution class\n",
    "sol = Solution()\n",
    "\n",
    "# Call the binarysearch method\n",
    "result = sol.binarysearch(arr, n, k)\n",
    "\n",
    "# Print the result\n",
    "print(result)"
   ]
  },
  {
   "cell_type": "code",
   "execution_count": null,
   "id": "d6d911c0",
   "metadata": {},
   "outputs": [],
   "source": []
  }
 ],
 "metadata": {
  "kernelspec": {
   "display_name": "Python 3 (ipykernel)",
   "language": "python",
   "name": "python3"
  },
  "language_info": {
   "codemirror_mode": {
    "name": "ipython",
    "version": 3
   },
   "file_extension": ".py",
   "mimetype": "text/x-python",
   "name": "python",
   "nbconvert_exporter": "python",
   "pygments_lexer": "ipython3",
   "version": "3.11.5"
  }
 },
 "nbformat": 4,
 "nbformat_minor": 5
}
