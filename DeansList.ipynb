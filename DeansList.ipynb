{
 "cells": [
  {
   "cell_type": "code",
   "execution_count": null,
   "id": "82c45251",
   "metadata": {
    "scrolled": true
   },
   "outputs": [],
   "source": [
    "#Student name: Cole Shane\n",
    "#File name: DeansList.py\n",
    "#This program will:\n",
    "#ask for and accept a student's last name.\n",
    "#quit processing student records if the last name entered is 'ZZZ'.\n",
    "#ask for and accept a student's first name.\n",
    "#ask for and accept the student's GPA as a float.\n",
    "#test if the student's GPA is 3.5 or greater and, if so, print a message saying that the student has made the Dean's List.\n",
    "#test if the student's GPA is 3.25 or greater and, if so, print a message saying that the studnet has made the Honor Roll.\n",
    "\n",
    "while True:\n",
    "    studentLastName = str(input(\"Please enter student's last name. Type ZZZ to exit: \"))\n",
    "    if studentLastName == 'ZZZ':\n",
    "        break\n",
    "    \n",
    "    studentFirstName = input(\"Please enter student's first name: \")\n",
    "    #studentFullName = studentFirstName + \" \" + studentLastName -testing before refactoring to f string\n",
    "    studentGPA = float(input(\"Enter student GPA: \"))\n",
    "    if studentGPA >= 3.5:\n",
    "        print(f\"{studentFirstName} {studentLastName} has Dean's List!\")\n",
    "    elif studentGPA >= 3.25:\n",
    "        print(f\"{studentFirstName} {studentLastName} has made Honor Roll!\")\n",
    "    else:\n",
    "        print(f\"{studentFirstName} {studentLastName} is not elligible.\")\n"
   ]
  },
  {
   "cell_type": "code",
   "execution_count": null,
   "id": "410623b3",
   "metadata": {},
   "outputs": [],
   "source": []
  }
 ],
 "metadata": {
  "kernelspec": {
   "display_name": "Python 3 (ipykernel)",
   "language": "python",
   "name": "python3"
  },
  "language_info": {
   "codemirror_mode": {
    "name": "ipython",
    "version": 3
   },
   "file_extension": ".py",
   "mimetype": "text/x-python",
   "name": "python",
   "nbconvert_exporter": "python",
   "pygments_lexer": "ipython3",
   "version": "3.11.5"
  }
 },
 "nbformat": 4,
 "nbformat_minor": 5
}
