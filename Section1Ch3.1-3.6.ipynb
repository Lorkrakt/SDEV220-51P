{
 "cells": [
  {
   "cell_type": "code",
   "execution_count": 13,
   "id": "1df04dbf",
   "metadata": {},
   "outputs": [
    {
     "name": "stdout",
     "output_type": "stream",
     "text": [
      "There are: 3600 seconds per hour.\n",
      "There are: 86400 seconds per day.\n",
      "24.0\n",
      "24\n"
     ]
    }
   ],
   "source": [
    "secMin = 60\n",
    "minHour = 60\n",
    "hourDay = 24\n",
    "\n",
    "seconds_per_hour = 60 * 60\n",
    "print(\"There are:\", seconds_per_hour, \"seconds per hour.\")\n",
    "\n",
    "seconds_per_day = seconds_per_hour*hourDay\n",
    "print(\"There are:\",seconds_per_day,\"seconds per day.\")\n",
    "\n",
    "floating_point = seconds_per_day / seconds_per_hour\n",
    "print(floating_point)\n",
    "\n",
    "integer = seconds_per_day // seconds_per_hour\n",
    "print(integer)"
   ]
  },
  {
   "cell_type": "markdown",
   "id": "9c457734",
   "metadata": {},
   "source": [
    "These answers match aside from the .0 at the end of the floating point number.\n"
   ]
  },
  {
   "cell_type": "code",
   "execution_count": null,
   "id": "01ae476c",
   "metadata": {},
   "outputs": [],
   "source": []
  }
 ],
 "metadata": {
  "kernelspec": {
   "display_name": "Python 3 (ipykernel)",
   "language": "python",
   "name": "python3"
  },
  "language_info": {
   "codemirror_mode": {
    "name": "ipython",
    "version": 3
   },
   "file_extension": ".py",
   "mimetype": "text/x-python",
   "name": "python",
   "nbconvert_exporter": "python",
   "pygments_lexer": "ipython3",
   "version": "3.11.5"
  }
 },
 "nbformat": 4,
 "nbformat_minor": 5
}
