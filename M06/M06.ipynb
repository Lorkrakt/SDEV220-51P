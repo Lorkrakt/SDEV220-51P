{
 "cells": [
  {
   "cell_type": "code",
   "execution_count": 7,
   "id": "93c57afe",
   "metadata": {},
   "outputs": [
    {
     "name": "stdout",
     "output_type": "stream",
     "text": [
      "Today's date (2023-12-03) has been written to today.txt\n"
     ]
    }
   ],
   "source": [
    "from datetime import datetime\n",
    "\n",
    "# Get today's date as a string\n",
    "today_date_string = datetime.now().strftime(\"%Y-%m-%d\")\n",
    "\n",
    "# Specify the file name\n",
    "file_name = \"today.txt\"\n",
    "\n",
    "# Write the date to the text file\n",
    "with open(file_name, 'w') as file:\n",
    "    file.write(today_date_string)\n",
    "\n",
    "print(f\"Today's date ({today_date_string}) has been written to {file_name}\")\n"
   ]
  },
  {
   "cell_type": "code",
   "execution_count": 8,
   "id": "904e8c51",
   "metadata": {},
   "outputs": [
    {
     "name": "stdout",
     "output_type": "stream",
     "text": [
      "Contents of today.txt: 2023-12-03\n"
     ]
    }
   ],
   "source": [
    "# Specify the file name\n",
    "file_name = \"today.txt\"\n",
    "\n",
    "# Read the contents of the file into a string\n",
    "with open(file_name, 'r') as file:\n",
    "    today_string = file.read()\n",
    "\n",
    "print(\"Contents of today.txt:\", today_string)\n"
   ]
  },
  {
   "cell_type": "code",
   "execution_count": 9,
   "id": "17f2d86f",
   "metadata": {},
   "outputs": [
    {
     "name": "stdout",
     "output_type": "stream",
     "text": [
      "Parsed Date: 2023-12-03 00:00:00\n"
     ]
    }
   ],
   "source": [
    "from datetime import datetime\n",
    "\n",
    "# Specify the file name\n",
    "file_name = \"today.txt\"\n",
    "\n",
    "# Read the contents of the file into a string\n",
    "with open(file_name, 'r') as file:\n",
    "    today_string = file.read().strip()\n",
    "\n",
    "# Parse the date from today_string\n",
    "parsed_date = datetime.strptime(today_string, \"%Y-%m-%d\")\n",
    "\n",
    "print(\"Parsed Date:\", parsed_date)\n"
   ]
  },
  {
   "cell_type": "code",
   "execution_count": 10,
   "id": "61d403b0",
   "metadata": {},
   "outputs": [
    {
     "name": "stdout",
     "output_type": "stream",
     "text": [
      "All processes have finished.\n"
     ]
    }
   ],
   "source": [
    "import multiprocessing\n",
    "import time\n",
    "import random\n",
    "from datetime import datetime\n",
    "\n",
    "def worker():\n",
    "    # Generate a random sleep time between 0 and 1 seconds\n",
    "    sleep_time = random.random()\n",
    "    \n",
    "    # Sleep for the random time\n",
    "    time.sleep(sleep_time)\n",
    "    \n",
    "    # Print the current time after sleeping\n",
    "    current_time = datetime.now().strftime(\"%Y-%m-%d %H:%M:%S\")\n",
    "    print(f\"Process {multiprocessing.current_process().name} - Current Time: {current_time}\")\n",
    "    \n",
    "\n",
    "if __name__ == \"__main__\":\n",
    "    # Create three separate processes\n",
    "    processes = [multiprocessing.Process(target=worker) for _ in range(3)]\n",
    "\n",
    "    # Start each process\n",
    "    for process in processes:\n",
    "        process.start()\n",
    "\n",
    "    # Wait for all processes to finish\n",
    "    for process in processes:\n",
    "        process.join()\n",
    "\n",
    "    print(\"All processes have finished.\")\n"
   ]
  },
  {
   "cell_type": "code",
   "execution_count": null,
   "id": "94cf53a1",
   "metadata": {},
   "outputs": [],
   "source": []
  }
 ],
 "metadata": {
  "kernelspec": {
   "display_name": "Python 3 (ipykernel)",
   "language": "python",
   "name": "python3"
  },
  "language_info": {
   "codemirror_mode": {
    "name": "ipython",
    "version": 3
   },
   "file_extension": ".py",
   "mimetype": "text/x-python",
   "name": "python",
   "nbconvert_exporter": "python",
   "pygments_lexer": "ipython3",
   "version": "3.11.5"
  }
 },
 "nbformat": 4,
 "nbformat_minor": 5
}
